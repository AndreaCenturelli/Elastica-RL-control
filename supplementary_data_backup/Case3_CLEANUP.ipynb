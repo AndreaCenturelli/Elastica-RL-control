{
 "cells": [
  {
   "cell_type": "markdown",
   "metadata": {},
   "source": [
    "# Average performance of best performing hyperparameters for each algorithm in Case 3"
   ]
  },
  {
   "cell_type": "code",
   "execution_count": 16,
   "metadata": {},
   "outputs": [
    {
     "name": "stdout",
     "output_type": "stream",
     "text": [
      "yep\n",
      "yep\n",
      "yep\n",
      "yep\n",
      "yep\n",
      "yep\n",
      "yep\n",
      "yep\n",
      "yep\n",
      "yep\n",
      "DONE\n",
      "yep\n",
      "yep\n",
      "yep\n",
      "yep\n",
      "yep\n",
      "yep\n",
      "yep\n",
      "yep\n",
      "yep\n",
      "yep\n",
      "yep\n",
      "yep\n",
      "yep\n",
      "yep\n",
      "yep\n"
     ]
    }
   ],
   "source": [
    "import numpy as np\n",
    "import pandas as pd\n",
    "import matplotlib as mpl\n",
    "import matplotlib.pyplot as plt\n",
    "import matplotlib.font_manager as font_manager\n",
    "from matplotlib.pyplot import gca\n",
    "from matplotlib.ticker import FormatStrFormatter\n",
    "import seaborn as sns\n",
    "plt.style.use('seaborn')\n",
    "\n",
    "\n",
    "seed_list = [0, 1, 2, 3, 4]\n",
    "n_steps=50\n",
    "\n",
    "import os\n",
    "dirs = [x[0] for x in os.walk(\"./Case3/Case3_paper_data/\")]\n",
    "dirs=dirs[1:]\n",
    "# print(dirs[1:])\n",
    "\n",
    "########### On policy results ###############################\n",
    "algo_list = [ \"PPO\", \"TRPO\"]\n",
    "batch_list_best = [16000, 16000]\n",
    "color = ['green', 'purple']\n",
    "\n",
    "for i, algo in enumerate(algo_list):\n",
    "    batch = batch_list_best[i]\n",
    "    df_list = []\n",
    "    for j, seed in enumerate(seed_list):\n",
    "        fname = (\"./Case3/Case3_paper_data/log_\"+str(algo)+\"_Case3-refined_id-\"+\n",
    "                 str(batch)+\"-0.98_\"+str(seed)+\"_tanh_64_64\")  \n",
    "        if fname in dirs:\n",
    "            print('yep')\n",
    "            dirs.remove(fname)\n",
    "\n",
    "print('DONE')\n",
    "########### Off policy results ###############################\n",
    "algo_list_offpolicy = [\"DDPG\",\"SAC\",\"TD3\"] \n",
    "color = ['darkorange', 'red', 'blue', 'cyan', 'black', 'grey']\n",
    "tau_list_best = [0.005, 0.005,0.005]\n",
    "batchsize_list_offpolicy_best = [5000000, 5000000, 50000]\n",
    "\n",
    "for i, algo_name in enumerate(algo_list_offpolicy):\n",
    "    batchsize = batchsize_list_offpolicy_best[i]\n",
    "    tau = tau_list_best[i]\n",
    "    df_list = []\n",
    "    for j, seed in enumerate(seed_list):\n",
    "        identifer = (str(algo_name) + \"_Case3_id\" + \"-\" + str(5e5) + \"_\"+ str(batchsize) \n",
    "            + \"_\"+ str(tau) + \"_\"+ str(50) + \"_\"+ str(1e-4) + \"_\"+ str(seed))\n",
    "        fname = \"./Case3/Case3_paper_data/log_\" + identifer + \"\"\n",
    "        if fname in dirs:\n",
    "            print('yep')\n",
    "            dirs.remove(fname)\n"
   ]
  },
  {
   "cell_type": "markdown",
   "metadata": {},
   "source": [
    "## Average results for different replay buffer sizes (Off Policy Algorithm)\n",
    "\n",
    "Batchsize variations were not considered for on policy algorithms for this case."
   ]
  },
  {
   "cell_type": "code",
   "execution_count": 17,
   "metadata": {},
   "outputs": [
    {
     "name": "stdout",
     "output_type": "stream",
     "text": [
      "yep\n",
      "yep\n",
      "yep\n",
      "yep\n",
      "yep\n",
      "yep\n",
      "yep\n",
      "yep\n",
      "yep\n",
      "yep\n",
      "yep\n",
      "yep\n",
      "yep\n",
      "yep\n",
      "yep\n",
      "yep\n",
      "yep\n",
      "yep\n",
      "yep\n",
      "yep\n",
      "yep\n",
      "yep\n",
      "yep\n",
      "yep\n",
      "yep\n",
      "yep\n",
      "yep\n",
      "yep\n",
      "yep\n",
      "yep\n",
      "yep\n",
      "yep\n",
      "yep\n",
      "yep\n",
      "yep\n",
      "yep\n",
      "yep\n",
      "yep\n",
      "yep\n",
      "yep\n",
      "yep\n",
      "yep\n",
      "yep\n",
      "yep\n",
      "yep\n"
     ]
    }
   ],
   "source": [
    "seed_list = [0, 1, 2, 3, 4]\n",
    "n_steps=50\n",
    "\n",
    "batchsize_list_offpolicy = [50000, 5000000]\n",
    "algo_list_offpolicy = [\"SAC\", \"TD3\",\"DDPG\"]\n",
    "color = ['red', 'blue', 'green', 'orange', 'purple', '#1b9e77', '#66a61e', 'darkgrey']\n",
    "label = ['(a)','(b)','(c)']\n",
    "tau_list = [0.05, 0.005, 0.001]\n",
    "\n",
    "\n",
    "for i, algo_name in enumerate(algo_list_offpolicy):\n",
    "    f = -1\n",
    "    for tau in tau_list:\n",
    "        for batchsize in batchsize_list_offpolicy:\n",
    "            if (algo !=\"SAC\") and (tau != 0.001):\n",
    "                df_list = []\n",
    "                f+=1\n",
    "                for j, seed in enumerate(seed_list):\n",
    "                    identifer = ( str(algo_name) + \"_Case3_id\" + \"-\" + str(5e5) + \"_\"+ \n",
    "                                 str(batchsize) \n",
    "                        + \"_\"+ str(tau) + \"_\"+ str(50) + \"_\"+ str(1e-4 ) + \"_\"+ str(seed))\n",
    "                    fname = \"./Case3/Case3_paper_data/log_\" + identifer + \"\"\n",
    "                    if fname in dirs:\n",
    "                        print('yep')\n",
    "                        dirs.remove(fname)\n"
   ]
  },
  {
   "cell_type": "markdown",
   "metadata": {},
   "source": [
    "# Effect of different numbers of control points"
   ]
  },
  {
   "cell_type": "code",
   "execution_count": 18,
   "metadata": {},
   "outputs": [
    {
     "ename": "NameError",
     "evalue": "name 'dirs1' is not defined",
     "output_type": "error",
     "traceback": [
      "\u001b[0;31m---------------------------------------------------------------------------\u001b[0m",
      "\u001b[0;31mNameError\u001b[0m                                 Traceback (most recent call last)",
      "\u001b[0;32m<ipython-input-18-96033e55ba15>\u001b[0m in \u001b[0;36m<module>\u001b[0;34m\u001b[0m\n\u001b[1;32m     27\u001b[0m                 \u001b[0mprint\u001b[0m\u001b[0;34m(\u001b[0m\u001b[0;34m'yep'\u001b[0m\u001b[0;34m)\u001b[0m\u001b[0;34m\u001b[0m\u001b[0;34m\u001b[0m\u001b[0m\n\u001b[1;32m     28\u001b[0m                 \u001b[0mdirs2\u001b[0m\u001b[0;34m.\u001b[0m\u001b[0mremove\u001b[0m\u001b[0;34m(\u001b[0m\u001b[0mfname\u001b[0m\u001b[0;34m)\u001b[0m\u001b[0;34m\u001b[0m\u001b[0;34m\u001b[0m\u001b[0m\n\u001b[0;32m---> 29\u001b[0;31m             \u001b[0;32mif\u001b[0m \u001b[0mfname\u001b[0m \u001b[0;32min\u001b[0m \u001b[0mdirs1\u001b[0m\u001b[0;34m:\u001b[0m\u001b[0;34m\u001b[0m\u001b[0;34m\u001b[0m\u001b[0m\n\u001b[0m\u001b[1;32m     30\u001b[0m                 \u001b[0mprint\u001b[0m\u001b[0;34m(\u001b[0m\u001b[0;34m'yeppers'\u001b[0m\u001b[0;34m)\u001b[0m\u001b[0;34m\u001b[0m\u001b[0;34m\u001b[0m\u001b[0m\n\u001b[1;32m     31\u001b[0m                 \u001b[0mdirs1\u001b[0m\u001b[0;34m.\u001b[0m\u001b[0mremove\u001b[0m\u001b[0;34m(\u001b[0m\u001b[0mfname\u001b[0m\u001b[0;34m)\u001b[0m\u001b[0;34m\u001b[0m\u001b[0;34m\u001b[0m\u001b[0m\n",
      "\u001b[0;31mNameError\u001b[0m: name 'dirs1' is not defined"
     ]
    }
   ],
   "source": [
    "\n",
    "import os\n",
    "dirs2 = [x[0] for x in os.walk(\"./Case3/Case3_ctrl-pts/\")]\n",
    "dirs2=dirs2[1:]\n",
    "\n",
    "n_steps=50\n",
    "seed_list = [0, 1, 2, 3, 4]\n",
    "\n",
    "algo_list = [ \"PPO\", \"TRPO\"]\n",
    "batch_list_best = [16000, 16000]\n",
    "color = ['red', 'blue', 'green', 'orange', 'purple', '#1b9e77', '#66a61e', 'slateblue']\n",
    "label = ['(a)','(b)']\n",
    "ctrl_list = ['mp',2,4,6,8]\n",
    "\n",
    "for k, algo in enumerate(algo_list):\n",
    "    for i, ctrl_pts in enumerate(ctrl_list):\n",
    "        batch = batch_list_best[k]\n",
    "        df_list = []\n",
    "        for j, seed in enumerate(seed_list):\n",
    "            if ctrl_pts == 'mp':\n",
    "                fname = (\"./Case3/Case3_paper_data/log_\"+str(algo)+\"_Case3-refined_id-\"+\n",
    "                 str(batch)+\"-0.98_\"+str(seed)+\"_tanh_64_64\") \n",
    "            else:\n",
    "                fname = (\"./Case3/Case3_ctrl-pts/log_\"+str(algo)+\"_Case3-ctrl_pts_id4-\"+ \n",
    "                         str(ctrl_pts) +\"_75_30_500000.0_\" +\n",
    "                     str(batch)+\"_5.0_\"+str(seed)+\"\")  \n",
    "            if fname in dirs2:\n",
    "                print('yep')\n",
    "                dirs2.remove(fname)\n",
    "            if fname in dirs:\n",
    "                print('yeppers')\n",
    "                dirs.remove(fname)           "
   ]
  },
  {
   "cell_type": "code",
   "execution_count": 12,
   "metadata": {},
   "outputs": [
    {
     "name": "stdout",
     "output_type": "stream",
     "text": [
      "['./Case3/Case3_paper_data/log_SAC_Case3_id-500000.0_50000_0.005_50_2.5e-05_0', './Case3/Case3_paper_data/log_TRPO_Case3_id-16000-0.98_2_tanh_64_64', './Case3/Case3_paper_data/log_SAC_Case3_id-500000.0_5000000_0.005_20_0.0002_2', './Case3/Case3_paper_data/log_TRPO_Case3_id-64000-0.98_0_tanh_64_64', './Case3/Case3_paper_data/log_PPO_Case3_id-64000-0.98_1_tanh_64_64', './Case3/Case3_paper_data/log_SAC_Case3_id-500000.0_50000_0.005_50_5e-05_1', './Case3/Case3_paper_data/log_SAC_Case3_id-500000.0_50000_0.005_20_0.0002_2', './Case3/Case3_paper_data/log_SAC_Case3_id-500000.0_5000000_0.005_100_2.5e-05_0', './Case3/Case3_paper_data/log_TRPO_Case3-refined_id-64000-0.98_0_tanh_64_64', './Case3/Case3_paper_data/log_SAC_Case3_id-500000.0_50000_0.005_50_5e-05_0', './Case3/Case3_paper_data/log_SAC_Case3_id-500000.0_5000000_0.05_100_2.5e-05_0', './Case3/Case3_paper_data/log_SAC_Case3_id-500000.0_5000000_0.005_100_5e-05_0', './Case3/Case3_paper_data/log_TD3_Case3_id-500000.0_50000_0.001_50_0.0001_0', './Case3/Case3_paper_data/log_TD3_Case3_id-500000.0_5000000_0.001_50_0.0001_4', './Case3/Case3_paper_data/log_DDPG_Case3_id-500000.0_5000000_0.001_50_0.0001_1', './Case3/Case3_paper_data/log_TD3_Case3_id-500000.0_5000000_0.001_50_0.0001_3', './Case3/Case3_paper_data/log_PPO_Case3-refined_id-64000-0.98_1_tanh_64_64', './Case3/Case3_paper_data/log_DDPG_Case3_id-500000.0_50000_0.001_50_0.0001_0', './Case3/Case3_paper_data/log_SAC_Case3_id-500000.0_5000000_0.005_50_5e-05_2', './Case3/Case3_paper_data/log_TD3_Case3_id-500000.0_50000_0.001_50_0.0001_1', './Case3/Case3_paper_data/log_SAC_Case3_id-500000.0_50000_0.005_100_5e-05_0', './Case3/Case3_paper_data/log_SAC_Case3_id-500000.0_5000000_0.005_50_5e-05_3', './Case3/Case3_paper_data/log_SAC_Case3_id-500000.0_50000_0.005_100_2.5e-05_0', './Case3/Case3_paper_data/log_DDPG_Case3_id-500000.0_50000_0.001_50_0.0001_1', './Case3/Case3_paper_data/log_DDPG_Case3_id-500000.0_5000000_0.001_50_0.0001_0', './Case3/Case3_paper_data/log_TD3_Case3_id-500000.0_5000000_0.001_50_0.0001_2', './Case3/Case3_paper_data/log_TRPO_Case3_id-64000-0.98_2_tanh_64_64', './Case3/Case3_paper_data/log_SAC_Case3_id-500000.0_5000000_0.05_50_5e-05_2', './Case3/Case3_paper_data/log_SAC_Case3_id-500000.0_50000_0.005_50_2.5e-06_0', './Case3/Case3_paper_data/log_SAC_Case3_id-500000.0_50000_0.05_50_5e-05_1', './Case3/Case3_paper_data/log_SAC_Case3_id-500000.0_50000_0.05_100_2.5e-05_0', './Case3/Case3_paper_data/log_TRPO_Case3_id-16000-0.98_0_tanh_64_64', './Case3/Case3_paper_data/log_PPO_Case3_id-16000-0.98_1_tanh_64_64', './Case3/Case3_paper_data/log_SAC_Case3_id-500000.0_5000000_0.005_50_2.5e-05_0', './Case3/Case3_paper_data/log_SAC_Case3_id-500000.0_5000000_0.05_50_5e-05_3', './Case3/Case3_paper_data/log_SAC_Case3_id-500000.0_50000_0.05_20_0.0002_2', './Case3/Case3_paper_data/log_SAC_Case3_id-500000.0_50000_0.05_50_5e-05_0', './Case3/Case3_paper_data/_videos', './Case3/Case3_paper_data/log_SAC_Case3_id-500000.0_5000000_0.05_20_0.0002_0', './Case3/Case3_paper_data/log_SAC_Case3_id-500000.0_50000_0.05_100_5e-05_0', './Case3/Case3_paper_data/log_SAC_Case3_id-500000.0_5000000_0.05_50_2.5e-05_0', './Case3/Case3_paper_data/log_SAC_Case3_id-500000.0_50000_0.005_50_5e-05_2', './Case3/Case3_paper_data/log_SAC_Case3_id-500000.0_50000_0.005_20_0.0002_0', './Case3/Case3_paper_data/log_PPO_Case3-refined_id-64000-0.98_0_tanh_64_64', './Case3/Case3_paper_data/log_SAC_Case3_id-500000.0_50000_0.005_50_5e-05_4', './Case3/Case3_paper_data/log_SAC_Case3_id-500000.0_50000_0.005_50_5e-05_3', './Case3/Case3_paper_data/log_SAC_Case3_id-500000.0_50000_0.05_50_2.5e-05_0', './Case3/Case3_paper_data/log_SAC_Case3_id-500000.0_50000_0.005_20_0.0002_1', './Case3/Case3_paper_data/log_SAC_Case3_id-500000.0_5000000_0.005_20_0.0002_0', './Case3/Case3_paper_data/log_DDPG_Case3_id-500000.0_5000000_0.001_50_0.0001_2', './Case3/Case3_paper_data/log_PPO_Case3_id-16000-0.98_2_tanh_64_64', './Case3/Case3_paper_data/log_TD3_Case3_id-500000.0_5000000_0.001_50_0.0001_0', './Case3/Case3_paper_data/log_DDPG_Case3_id-500000.0_50000_0.001_50_0.0001_4', './Case3/Case3_paper_data/log_SAC_Case3_id-500000.0_5000000_0.005_50_5e-05_1', './Case3/Case3_paper_data/log_DDPG_Case3_id-500000.0_50000_0.001_50_0.0001_3', './Case3/Case3_paper_data/log_TRPO_Case3_id-64000-0.98_1_tanh_64_64', './Case3/Case3_paper_data/log_PPO_Case3_id-64000-0.98_0_tanh_64_64', './Case3/Case3_paper_data/log_TD3_Case3_id-500000.0_50000_0.001_50_0.0001_4', './Case3/Case3_paper_data/log_TD3_Case3_id-500000.0_50000_0.001_50_0.0001_3', './Case3/Case3_paper_data/log_DDPG_Case3_id-500000.0_50000_0.001_50_0.0001_2', './Case3/Case3_paper_data/log_SAC_Case3_id-500000.0_5000000_0.005_50_5e-05_0', './Case3/Case3_paper_data/log_DDPG_Case3_id-500000.0_5000000_0.001_50_0.0001_4', './Case3/Case3_paper_data/log_DDPG_Case3_id-500000.0_5000000_0.001_50_0.0001_3', './Case3/Case3_paper_data/log_TD3_Case3_id-500000.0_5000000_0.001_50_0.0001_1', './Case3/Case3_paper_data/log_TRPO_Case3_id-4096-0.98_0_tanh_64_64', './Case3/Case3_paper_data/log_TD3_Case3_id-500000.0_50000_0.001_50_0.0001_2', './Case3/Case3_paper_data/log_SAC_Case3_id-500000.0_50000_0.05_50_5e-05_2', './Case3/Case3_paper_data/log_SAC_Case3_id-500000.0_50000_0.05_20_0.0002_0', './Case3/Case3_paper_data/log_SAC_Case3_id-500000.0_5000000_0.05_50_5e-05_1', './Case3/Case3_paper_data/log_SAC_Case3_id-500000.0_50000_0.05_50_5e-05_4', './Case3/Case3_paper_data/log_SAC_Case3_id-500000.0_50000_0.05_50_5e-05_3', './Case3/Case3_paper_data/log_SAC_Case3_id-500000.0_5000000_0.05_100_5e-05_0', './Case3/Case3_paper_data/log_SAC_Case3_id-500000.0_50000_0.05_50_2.5e-06_0', './Case3/Case3_paper_data/log_SAC_Case3_id-500000.0_5000000_0.05_50_5e-05_0', './Case3/Case3_paper_data/log_PPO_Case3_id-64000-0.98_2_tanh_64_64', './Case3/Case3_paper_data/log_TRPO_Case3_id-16000-0.98_1_tanh_64_64', './Case3/Case3_paper_data/log_PPO_Case3_id-16000-0.98_0_tanh_64_64']\n"
     ]
    }
   ],
   "source": [
    "print(dirs)"
   ]
  },
  {
   "cell_type": "code",
   "execution_count": 13,
   "metadata": {},
   "outputs": [],
   "source": [
    "# dirs = [x[0] for x in os.walk(\"./Case1/\")]\n",
    "import shutil\n",
    "for f in dirs:\n",
    "    shutil.rmtree(f)"
   ]
  },
  {
   "cell_type": "code",
   "execution_count": null,
   "metadata": {},
   "outputs": [],
   "source": []
  }
 ],
 "metadata": {
  "kernelspec": {
   "display_name": "Python 3",
   "language": "python",
   "name": "python3"
  },
  "language_info": {
   "codemirror_mode": {
    "name": "ipython",
    "version": 3
   },
   "file_extension": ".py",
   "mimetype": "text/x-python",
   "name": "python",
   "nbconvert_exporter": "python",
   "pygments_lexer": "ipython3",
   "version": "3.7.7"
  }
 },
 "nbformat": 4,
 "nbformat_minor": 4
}
