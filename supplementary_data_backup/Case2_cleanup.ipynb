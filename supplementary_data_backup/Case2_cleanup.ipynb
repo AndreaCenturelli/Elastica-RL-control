{
 "cells": [
  {
   "cell_type": "markdown",
   "metadata": {},
   "source": [
    "# Average performance of best performing hyperparameters for each algorithm in Case 2"
   ]
  },
  {
   "cell_type": "code",
   "execution_count": 12,
   "metadata": {},
   "outputs": [
    {
     "name": "stdout",
     "output_type": "stream",
     "text": [
      "yep\n",
      "yep\n",
      "yep\n",
      "yep\n",
      "yep\n",
      "yep\n",
      "yep\n",
      "yep\n",
      "yep\n",
      "yep\n",
      "yep\n",
      "yep\n",
      "yep\n",
      "yep\n",
      "yep\n",
      "yep\n",
      "yep\n",
      "yep\n",
      "yep\n",
      "yep\n",
      "yep\n",
      "yep\n",
      "yep\n",
      "yep\n",
      "yep\n"
     ]
    }
   ],
   "source": [
    "import numpy as np\n",
    "import pandas as pd\n",
    "import matplotlib as mpl\n",
    "import matplotlib.pyplot as plt\n",
    "import matplotlib.font_manager as font_manager\n",
    "from matplotlib.pyplot import gca\n",
    "from matplotlib.ticker import FormatStrFormatter\n",
    "import seaborn as sns\n",
    "plt.style.use('seaborn')\n",
    "\n",
    "seed_list = [0, 1, 2, 3, 4]\n",
    "n_steps = 250\n",
    "    \n",
    "import os\n",
    "dirs = [x[0] for x in os.walk(\"./Case2/\")]\n",
    "dirs=dirs[1:]\n",
    "# print(dirs)\n",
    "\n",
    "########### On policy results ###############################\n",
    "algo_list = [ \"PPO\", \"TRPO\"]\n",
    "batch_list_best = [16000, 16000 ]\n",
    "color = ['green', 'purple']\n",
    "\n",
    "for i, algo in enumerate(algo_list):\n",
    "    batch = batch_list_best[i]\n",
    "    df_list = []\n",
    "    for j, seed in enumerate(seed_list):\n",
    "        fname = (\"./Case2/log_\"+str(algo)+\"_3d-orientation-v2_id-\"+\n",
    "                 str(batch)+\"-0.98_\"+str(seed)+\"_tanh_64_64\")  \n",
    "        if fname in dirs:\n",
    "            print('yep')\n",
    "            dirs.remove(fname)\n",
    "\n",
    "########### Off policy results ###############################\n",
    "algo_list = [\"DDPG\",\"SAC\", \"TD3\"]\n",
    "batch_list_best = [2000000, 2000000,2000000]\n",
    "color = ['darkorange', 'red', 'blue']\n",
    "\n",
    "for i, algo in enumerate(algo_list):\n",
    "    batch = batch_list_best[i]\n",
    "    df_list = []\n",
    "    for j, seed in enumerate(seed_list):\n",
    "        fname = (\"./Case2/log_\"+str(algo)+\"_3d-orientation-v4_id-\"+\n",
    "                 str(batch)+\"-0.98_\"+str(seed)+\"_tanh_64_64\") \n",
    "        if fname in dirs:\n",
    "            print('yep')\n",
    "            dirs.remove(fname)\n",
    "\n",
    " "
   ]
  },
  {
   "cell_type": "markdown",
   "metadata": {},
   "source": [
    "# Average results for different batchsizes (On Policy Algorithm) "
   ]
  },
  {
   "cell_type": "code",
   "execution_count": 13,
   "metadata": {},
   "outputs": [
    {
     "name": "stdout",
     "output_type": "stream",
     "text": [
      "yep\n",
      "yep\n",
      "yep\n",
      "yep\n",
      "yep\n",
      "yep\n",
      "yep\n",
      "yep\n",
      "yep\n",
      "yep\n",
      "yep\n",
      "yep\n",
      "yep\n",
      "yep\n",
      "yep\n",
      "yep\n",
      "yep\n",
      "yep\n",
      "yep\n",
      "yep\n",
      "yep\n",
      "yep\n",
      "yep\n",
      "yep\n",
      "yep\n",
      "yep\n",
      "yep\n",
      "yep\n",
      "yep\n",
      "yep\n",
      "yep\n",
      "yep\n",
      "yep\n",
      "yep\n",
      "yep\n",
      "yep\n",
      "yep\n",
      "yep\n",
      "yep\n",
      "yep\n"
     ]
    }
   ],
   "source": [
    "seed_list = [0, 1, 2, 3, 4]\n",
    "n_steps=250\n",
    "\n",
    "f=0\n",
    "\n",
    "algo_list = [ \"PPO\", \"TRPO\"]\n",
    "batch_list = [1000, 4000, 16000, 64000, 128000]\n",
    "color = ['red', 'blue', 'green', 'orange', 'purple', '#1b9e77', '#66a61e', 'slateblue']\n",
    "label = ['(a)','(b)']\n",
    "\n",
    "for k, algo in enumerate(algo_list):\n",
    "    f+=1\n",
    "    for i, batch in enumerate(batch_list):\n",
    "        df_list = []\n",
    "        for j, seed in enumerate(seed_list):\n",
    "            fname = (\"./Case2/log_\"+str(algo)+\n",
    "                     \"_3d-orientation-v2_id-\"+str(batch)+\"-0.98_\"+\n",
    "                     str(seed)+\"_tanh_64_64\")   \n",
    "            if fname in dirs:\n",
    "                print('yep')\n",
    "                dirs.remove(fname)"
   ]
  },
  {
   "cell_type": "markdown",
   "metadata": {},
   "source": [
    "# Average results for different replay buffer sizes (Off Policy Algorithm)"
   ]
  },
  {
   "cell_type": "code",
   "execution_count": 14,
   "metadata": {},
   "outputs": [
    {
     "name": "stdout",
     "output_type": "stream",
     "text": [
      "yep\n",
      "yep\n",
      "yep\n",
      "yep\n",
      "yep\n",
      "yep\n",
      "yep\n",
      "yep\n",
      "yep\n",
      "yep\n",
      "yep\n",
      "yep\n",
      "yep\n",
      "yep\n",
      "yep\n",
      "yep\n",
      "yep\n",
      "yep\n",
      "yep\n",
      "yep\n",
      "yep\n",
      "yep\n",
      "yep\n",
      "yep\n",
      "yep\n",
      "yep\n",
      "yep\n",
      "yep\n",
      "yep\n",
      "yep\n",
      "yep\n",
      "yep\n",
      "yep\n",
      "yep\n",
      "yep\n",
      "yep\n",
      "yep\n",
      "yep\n",
      "yep\n",
      "yep\n",
      "yep\n",
      "yep\n",
      "yep\n",
      "yep\n",
      "yep\n",
      "yep\n",
      "yep\n",
      "yep\n",
      "yep\n",
      "yep\n",
      "yep\n",
      "yep\n",
      "yep\n",
      "yep\n",
      "yep\n",
      "yep\n",
      "yep\n",
      "yep\n",
      "yep\n",
      "yep\n",
      "yep\n",
      "yep\n",
      "yep\n",
      "yep\n",
      "yep\n",
      "yep\n",
      "yep\n",
      "yep\n",
      "yep\n",
      "yep\n",
      "yep\n",
      "yep\n",
      "yep\n",
      "yep\n",
      "yep\n"
     ]
    }
   ],
   "source": [
    "seed_list = [0, 1, 2, 3, 4]\n",
    "n_steps=250\n",
    "\n",
    "color = ['red', 'blue', 'green', 'orange', 'purple', '#1b9e77', '#66a61e', 'darkgrey']\n",
    "label = ['(a)','(b)','(c)']\n",
    "\n",
    "f=0\n",
    "algo_list = [\"SAC\", \"TD3\",\"DDPG\"]\n",
    "batch_list = [100000, 200000, 500000, 1000000, 2000000]\n",
    "\n",
    "for k, algo in enumerate(algo_list):\n",
    "    f+=1\n",
    "    for i, batch in enumerate(batch_list):\n",
    "        df_list = []\n",
    "        for j, seed in enumerate(seed_list):\n",
    "            fname = (\"./Case2/log_\"+str(algo)+\"_3d-orientation-v3_id-\"+str(batch)+\n",
    "                     \"-0.98_\"+str(seed)+\"_tanh_64_64\")  \n",
    "            if fname in dirs:\n",
    "                print('yep')\n",
    "                dirs.remove(fname)"
   ]
  },
  {
   "cell_type": "code",
   "execution_count": 15,
   "metadata": {},
   "outputs": [
    {
     "name": "stdout",
     "output_type": "stream",
     "text": [
      "['./Case2/log_PPO_3d-orientation_id-8000-0.98_2_tanh_64_64', './Case2/log_PPO_3d-orientation_id-1000-0.98_1_tanh_64_64', './Case2/log_DDPG_3d-orientation-v2_id-100-0.98_1_tanh_64_64', './Case2/log_TRPO_3d-orientation_id-64000-0.98_1_tanh_64_64', './Case2/log_TD3_3d-orientation-v3_id-50-0.98_0_tanh_64_64', './Case2/log_PPO_3d-orientation_id-4000-0.98_1_tanh_64_64', './Case2/log_TD3_3d-orientation-v2_id-10-0.98_0_tanh_64_64', './Case2/log_SAC_3d-orientation-v2_id-10-0.98_0_tanh_64_64', './Case2/log_PPO_3d-orientation_id-2000-0.98_2_tanh_64_64', './Case2/log_TD3_3d-orientation-v2_id-1000-0.98_1_tanh_64_64', './Case2/log_DDPG_3d-orientation-v2_id-200-0.98_1_tanh_64_64', './Case2/log_PPO_3d-orientation_id-32000-0.98_2_tanh_64_64', './Case2/log_DDPG_3d-orientation-v4_id-200000-0.98_0_tanh_64_64', './Case2/log_TD3_3d-orientation-v2_id-500-0.98_1_tanh_64_64', './Case2/log_PPO_3d-orientation_id-16000-0.98_0_tanh_64_64', './Case2/log_DDPG_3d-orientation-v2_id-1000-0.98_0_tanh_64_64', './Case2/log_PPO_3d-orientation_id-64000-0.98_2_tanh_64_64', './Case2/log_DDPG_3d-orientation-v2_id-500-0.98_1_tanh_64_64', './Case2/log_SAC_3d-orientation-v2_id-1-0.98_0_tanh_64_64', './Case2/log_TD3_3d-orientation_id-100-0.98_1_tanh_64_64', './Case2/log_TD3_3d-orientation-v2_id-200-0.98_1_tanh_64_64', './Case2/log_TRPO_3d-orientation_id-1000-0.98_0_tanh_64_64', './Case2/log_DDPG_3d-orientation_id-1000-0.98_1_tanh_64_64', './Case2/log_TD3_3d-orientation-v2_id-100-0.98_1_tanh_64_64', './Case2/log_TRPO_3d-orientation_id-32000-0.98_1_tanh_64_64', './Case2/log_TRPO_3d-orientation_id-4000-0.98_0_tanh_64_64', './Case2/log_DDPG_3d-orientation_id-500-0.98_0_tanh_64_64', './Case2/log_TRPO_3d-orientation_id-16000-0.98_1_tanh_64_64', './Case2/log_TD3_3d-orientation-v2_id-2000-0.98_0_tanh_64_64', './Case2/log_PPO_3d-orientation_id-8000-0.98_0_tanh_64_64', './Case2/log_PPO_3d-orientation_id-32000-0.98_0_tanh_64_64', './Case2/log_PPO_3d-orientation_id-2000-0.98_0_tanh_64_64', './Case2/log_PPO_3d-orientation_id-64000-0.98_0_tanh_64_64', './Case2/log_PPO_3d-orientation_id-16000-0.98_2_tanh_64_64', './Case2/log_DDPG_3d-orientation_id-100-0.98_0_tanh_64_64', './Case2/log_TRPO_3d-orientation_id-128000-0.98_1_tanh_64_64', './Case2/log_DDPG_3d-orientation-v2_id-1000-0.98_2_tanh_64_64', './Case2/log_TRPO_3d-orientation_id-2000-0.98_1_tanh_64_64', './Case2/log_SAC_3d-orientation-v3_id-0-0.98_0_tanh_64_64', './Case2/log_TRPO_3d-orientation_id-4000-0.98_2_tanh_64_64', './Case2/log_DDPG_3d-orientation_id-200-0.98_0_tanh_64_64', './Case2/log_PPO_3d-orientation_id-128000-0.98_1_tanh_64_64', './Case2/log_TRPO_3d-orientation_id-1000-0.98_2_tanh_64_64', './Case2/log_TRPO_3d-orientation_id-8000-0.98_1_tanh_64_64', './Case2/log_DDPG_3d-orientation-v2_id-2000-0.98_1_tanh_64_64', './Case2/log_TRPO_3d-orientation_id-2000-0.98_2_tanh_64_64', './Case2/log_TD3_3d-orientation_id-1000-0.98_0_tanh_64_64', './Case2/log_PPO_3d-orientation_id-16000-0.98_1_tanh_64_64', './Case2/log_TRPO_3d-orientation_id-128000-0.98_2_tanh_64_64', './Case2/log_DDPG_3d-orientation-v2_id-1000-0.98_1_tanh_64_64', './Case2/log_TD3_3d-orientation_id-100-0.98_0_tanh_64_64', './Case2/log_TD3_3d-orientation-v2_id-200-0.98_0_tanh_64_64', './Case2/log_DDPG_3d-orientation-v2_id-500-0.98_0_tanh_64_64', './Case2/log_TD3_3d-orientation_id-200-0.98_0_tanh_64_64', './Case2/log_TRPO_3d-orientation_id-1000-0.98_1_tanh_64_64', './Case2/log_TRPO_3d-orientation_id-32000-0.98_0_tanh_64_64', './Case2/log_TD3_3d-orientation-v2_id-100-0.98_0_tanh_64_64', './Case2/log_DDPG_3d-orientation_id-1000-0.98_0_tanh_64_64', './Case2/log_TRPO_3d-orientation_id-8000-0.98_2_tanh_64_64', './Case2/log_TD3_3d-orientation-v2_id-4-0.98_0_tanh_64_64', './Case2/log_PPO_3d-orientation_id-128000-0.98_2_tanh_64_64', './Case2/log_TRPO_3d-orientation_id-4000-0.98_1_tanh_64_64', './Case2/log_DDPG_3d-orientation-v2_id-100-0.98_0_tanh_64_64', './Case2/log_TRPO_3d-orientation_id-64000-0.98_0_tanh_64_64', './Case2/log_TD3_3d-orientation_id-500-0.98_0_tanh_64_64', './Case2/log_PPO_3d-orientation_id-1000-0.98_0_tanh_64_64', './Case2/log_TRPO_3d-orientation_id-16000-0.98_2_tanh_64_64', './Case2/log_DDPG_3d-orientation_id-0-0.98_0_tanh_64_64', './Case2/log_PPO_3d-orientation_id-4000-0.98_0_tanh_64_64', './Case2/log_TD3_3d-orientation-v2_id-500-0.98_0_tanh_64_64', './Case2/log_TD3_3d-orientation-v2_id-1000-0.98_0_tanh_64_64', './Case2/log_DDPG_3d-orientation-v2_id-200-0.98_0_tanh_64_64', './Case2/log_DDPG_3d-orientation-v3_id-0-0.98_0_tanh_64_64', './Case2/log_PPO_3d-orientation_id-64000-0.98_1_tanh_64_64', './Case2/log_DDPG_3d-orientation-v2_id-500-0.98_2_tanh_64_64', './Case2/log_TRPO_3d-orientation_id-2000-0.98_0_tanh_64_64', './Case2/log_DDPG_3d-orientation_id-100-0.98_1_tanh_64_64', './Case2/log_TRPO_3d-orientation_id-128000-0.98_0_tanh_64_64', './Case2/log_PPO_3d-orientation_id-128000-0.98_0_tanh_64_64', './Case2/log_DDPG_3d-orientation_id-200-0.98_1_tanh_64_64', './Case2/log_TD3_3d-orientation-v3_id-0-0.98_0_tanh_64_64', './Case2/log_SAC_3d-orientation_id-0-0.98_0_tanh_64_64', './Case2/log_TD3_3d-orientation_id-0-0.98_0_tanh_64_64', './Case2/log_DDPG_3d-orientation-v2_id-2000-0.98_0_tanh_64_64', './Case2/log_TRPO_3d-orientation_id-8000-0.98_0_tanh_64_64', './Case2/log_TD3_3d-orientation-v2_id-100-0.98_2_tanh_64_64', './Case2/log_TRPO_3d-orientation_id-32000-0.98_2_tanh_64_64', './Case2/log_DDPG_3d-orientation_id-500-0.98_1_tanh_64_64', './Case2/log_TD3_3d-orientation-v2_id-2000-0.98_1_tanh_64_64', './Case2/log_TRPO_3d-orientation_id-16000-0.98_0_tanh_64_64', './Case2/log_PPO_3d-orientation_id-4000-0.98_2_tanh_64_64', './Case2/log_TRPO_3d-orientation_id-64000-0.98_2_tanh_64_64', './Case2/log_DDPG_3d-orientation-v2_id-100-0.98_2_tanh_64_64', './Case2/log_PPO_3d-orientation_id-8000-0.98_1_tanh_64_64', './Case2/log_PPO_3d-orientation_id-1000-0.98_2_tanh_64_64', './Case2/log_PPO_3d-orientation_id-32000-0.98_1_tanh_64_64', './Case2/log_TD3_3d-orientation-v2_id-500-0.98_2_tanh_64_64', './Case2/log_TD3_3d-orientation-v2_id-1000-0.98_2_tanh_64_64', './Case2/log_TD3_3d-orientation-v3_id-100-0.98_0_tanh_64_64', './Case2/log_PPO_3d-orientation_id-2000-0.98_1_tanh_64_64']\n"
     ]
    }
   ],
   "source": [
    "print(dirs)"
   ]
  },
  {
   "cell_type": "code",
   "execution_count": 16,
   "metadata": {},
   "outputs": [],
   "source": [
    "# dirs = [x[0] for x in os.walk(\"./Case1/\")]\n",
    "import shutil\n",
    "for f in dirs:\n",
    "    shutil.rmtree(f)"
   ]
  },
  {
   "cell_type": "code",
   "execution_count": null,
   "metadata": {},
   "outputs": [],
   "source": []
  }
 ],
 "metadata": {
  "kernelspec": {
   "display_name": "Python 3",
   "language": "python",
   "name": "python3"
  },
  "language_info": {
   "codemirror_mode": {
    "name": "ipython",
    "version": 3
   },
   "file_extension": ".py",
   "mimetype": "text/x-python",
   "name": "python",
   "nbconvert_exporter": "python",
   "pygments_lexer": "ipython3",
   "version": "3.7.7"
  }
 },
 "nbformat": 4,
 "nbformat_minor": 4
}
