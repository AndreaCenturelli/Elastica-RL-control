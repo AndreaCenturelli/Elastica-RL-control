{
 "cells": [
  {
   "cell_type": "markdown",
   "metadata": {},
   "source": [
    "# Average performance of best performing hyperparameters for each algorithm in Case 4"
   ]
  },
  {
   "cell_type": "code",
   "execution_count": 7,
   "metadata": {},
   "outputs": [
    {
     "name": "stdout",
     "output_type": "stream",
     "text": [
      "yep\n",
      "yep\n",
      "yep\n",
      "yep\n",
      "yep\n",
      "yep\n",
      "yep\n",
      "yep\n",
      "yep\n",
      "yep\n",
      "yep\n",
      "yep\n",
      "yep\n",
      "yep\n",
      "yep\n",
      "yep\n",
      "yep\n",
      "yep\n",
      "yep\n",
      "yep\n",
      "yep\n",
      "yep\n",
      "yep\n",
      "yep\n",
      "yep\n"
     ]
    }
   ],
   "source": [
    "import numpy as np\n",
    "import pandas as pd\n",
    "import matplotlib as mpl\n",
    "import matplotlib.pyplot as plt\n",
    "import matplotlib.font_manager as font_manager\n",
    "from matplotlib.pyplot import gca\n",
    "from matplotlib.ticker import FormatStrFormatter\n",
    "import seaborn as sns\n",
    "\n",
    "plt.style.use('seaborn')\n",
    "\n",
    "\n",
    "seed_list = [0, 1, 2, 3, 4]\n",
    "n_steps=50\n",
    "\n",
    "import os\n",
    "dirs = [x[0] for x in os.walk(\"./Case4/\")]\n",
    "dirs=dirs[1:]\n",
    "# print(dirs[1:])\n",
    "\n",
    "########### Start wtih on policy results ###############################\n",
    "algo_list = [ \"PPO\", \"TRPO\"]\n",
    "color = ['green', 'purple']\n",
    "batch_list_best = [16000, 16000]\n",
    "\n",
    "for i, algo in enumerate(algo_list):\n",
    "    batch = batch_list_best[i]\n",
    "    df_list = []\n",
    "    for j, seed in enumerate(seed_list):\n",
    "        fname = (\"./Case4/log_\"+str(algo)+\"_nested_regular_id-1-2_75_30_\"+str(1e6)+\n",
    "                 \"_\"+str(batch)+\"_\"+str(5)+\"_\"+str(seed)+\"\")  \n",
    "\n",
    "        if fname in dirs:\n",
    "            print('yep')\n",
    "            dirs.remove(fname)\n",
    "            \n",
    "dt_list = [1e-4]\n",
    "n_elem_list = [50]\n",
    "total_timesteps = 5e5\n",
    "run_comand_list = []\n",
    "\n",
    "########### Now do off policy results ###############################\n",
    "algo_list_offpolicy = [\"DDPG\",\"SAC\",\"TD3\"] \n",
    "color = ['darkorange', 'red', 'blue']\n",
    "batchsize_list_offpolicy_best = [500000, 500000, 500000]\n",
    "tau_list_best = [0.005, 0.005,0.005]\n",
    "timesteps = 0.5e6\n",
    "\n",
    "for i, algo_name in enumerate(algo_list_offpolicy):\n",
    "    batch = batchsize_list_offpolicy_best[i]\n",
    "    tau = tau_list_best[i]\n",
    "    df_list = []\n",
    "    for j, seed in enumerate(seed_list):\n",
    "\n",
    "        fname = (\"./Case4/log_\"+str(algo_name)+\"_nested_regular_id-1-2_75_30_\"+str(1e6)+\n",
    "                 \"_\"+str(batch)+\"_\"+str(5)+\"_\"+str(seed)+\"\")  \n",
    "        if fname in dirs:\n",
    "            print('yep')\n",
    "            dirs.remove(fname)"
   ]
  },
  {
   "cell_type": "markdown",
   "metadata": {},
   "source": [
    "# Average results for different replay buffer sizes (Off Policy Algorithm)\n",
    "\n",
    "Batchsize variations were not considered for on policy algorithms for this case."
   ]
  },
  {
   "cell_type": "code",
   "execution_count": 8,
   "metadata": {},
   "outputs": [
    {
     "name": "stdout",
     "output_type": "stream",
     "text": [
      "yep\n",
      "yep\n",
      "yep\n",
      "yep\n",
      "yep\n",
      "yep\n",
      "yep\n",
      "yep\n",
      "yep\n",
      "yep\n",
      "yep\n",
      "yep\n",
      "yep\n",
      "yep\n",
      "yep\n",
      "yep\n",
      "yep\n",
      "yep\n",
      "yep\n",
      "yep\n",
      "yep\n",
      "yep\n",
      "yep\n",
      "yep\n",
      "yep\n",
      "yep\n",
      "yep\n",
      "yep\n",
      "yep\n",
      "yep\n"
     ]
    }
   ],
   "source": [
    "\n",
    "color = ['red', 'blue', 'green', 'orange', 'purple', '#1b9e77', '#66a61e', 'darkgrey']\n",
    "\n",
    "label = ['(a)','(b)','(c)']\n",
    "\n",
    "seed_list = [0,1, 2, 3, 4] #3, 4]\n",
    "algo_list_offpolicy = [\"SAC\", \"TD3\",\"DDPG\"]\n",
    "batchsize_list = [50000, 500000, 1000000]\n",
    "\n",
    "dt_list = [1e-4]\n",
    "n_elem_list = [50]\n",
    "\n",
    "run_comand_list = []\n",
    "\n",
    "\n",
    "for i, algo in enumerate(algo_list_offpolicy):\n",
    "\n",
    "    for k, batch in enumerate(batchsize_list):\n",
    "        df_list = []\n",
    "        for j, seed in enumerate(seed_list):\n",
    "            fname = (\"./Case4/log_\"+str(algo)+\"_nested_regular_id-1-2_75_30_\"+str(1.0e6)+\n",
    "                     \"_\"+str(batch)+\"_\"+str(5)+\"_\"+str(seed)+\"\")\n",
    "            if fname in dirs:\n",
    "                print('yep')\n",
    "                dirs.remove(fname)"
   ]
  },
  {
   "cell_type": "code",
   "execution_count": 9,
   "metadata": {},
   "outputs": [
    {
     "name": "stdout",
     "output_type": "stream",
     "text": [
      "['./Case4/log_SAC_nested_regular_id-1-2_75_30_1000000.0_5000000_5_0', './Case4/log_DDPG_nested_refined_id-1-2_75_30_1000000.0_50000_5_2', './Case4/log_SAC_nested_ExtraRefined_id-1-2_75_30_100000.0_50000_5_1', './Case4/log_SAC_nested_coarse-largebatch-largepenatly_id-1-2_75_30_200000.0_500000_5_0', './Case4/log_TRPO_nested_id-1-2_75_30_2500000.0_16000_5_0', './Case4/log_PPO_nested_refined_id-1-2_75_30_1000000.0_16000_5_1', './Case4/log_TRPO_nested_refined_id-1-2_75_30_1000000.0_16000_5_3', './Case4/log_TRPO_nested_refined_id-1-2_75_30_1000000.0_16000_5_4', './Case4/log_SAC_nested_regular_id-1-2_75_30_1000000.0_5000000_5_1', './Case4/log_SAC_nested_refined_id-1-2_75_30_200000.0_50000_5_0', './Case4/log_TRPO_nested_refined_id-1-2_75_30_1000000.0_16000_5_2', './Case4/log_TD3_nested_coarse_id-1-2_75_30_1000000.0_50000_5_0', './Case4/log_PPO_nested_refined_id-1-2_75_30_1000000.0_16000_5_0', './Case4/log_TRPO_nested_id-1-2_75_30_2500000.0_16000_5_1', './Case4/log_SAC_nested_id-1-2_75_30_1000000.0_50000_5_0', './Case4/log_TRPO_nested_id-1-2_75_30_2500000.0_64000_5_2', './Case4/log_SAC_nested_refined_id-1-2_75_30_1000000.0_50000_5_1', './Case4/log_TD3_nested_refined_id-1-2_75_30_1000000.0_50000_5_2', './Case4/log_SAC_nested_refined_id-1-2_75_30_1000000.0_50000_5_0', './Case4/log_TD3_nested_id-1-2_75_30_1000000.0_50000_5_0', './Case4/log_PPO_nested_refined_id-1-2_75_30_1000000.0_16000_5_2', './Case4/log_TRPO_nested_refined_id-1-2_75_30_1000000.0_16000_5_0', './Case4/log_SAC_nested_regular_id-1-2_75_30_1000000.0_5000000_5_4', './Case4/log_SAC_nested_regular_id-1-2_75_30_1000000.0_5000000_5_3', './Case4/log_DDPG_nested_refined_id-1-2_75_30_1000000.0_50000_5_1', './Case4/log_TRPO_nested_refined_id-1-2_75_30_1000000.0_16000_5_1', './Case4/log_PPO_nested_refined_id-1-2_75_30_1000000.0_16000_5_3', './Case4/log_TRPO_nested_id-1-2_75_30_2500000.0_16000_5_2', './Case4/log_DDPG_nested_id-1-2_75_30_1000000.0_50000_5_0', './Case4/log_PPO_nested_refined_id-1-2_75_30_1000000.0_16000_5_4', './Case4/log_SAC_nested_regular_id-1-2_75_30_1000000.0_5000000_5_2', './Case4/log_DDPG_nested_refined_id-1-2_75_30_1000000.0_50000_5_0', './Case4/log_TRPO_nested_id-1-2_75_30_2500000.0_64000_5_0', './Case4/log_SAC_nested_coarse_id-1-2_75_30_1000000.0_50000_5_0', './Case4/log_TRPO_nested_id-1-2_75_30_2500000.0_64000_5_1', './Case4/log_TRPO_nested_id-1-2_75_30_1000000.0_64000_5_0', './Case4/log_DDPG_nested_coarse_id-1-2_75_30_1000000.0_50000_5_0', './Case4/log_SAC_nested_refined_id-1-2_75_30_1000000.0_50000_5_2', './Case4/log_TD3_nested_refined_id-1-2_75_30_1000000.0_50000_5_0', './Case4/log_SAC_nested_id-1-2_75_30_200000.0_50000_5_0', './Case4/log_TD3_nested_refined_id-1-2_75_30_1000000.0_50000_5_1', './Case4/log_SAC_nested_coarse_id-1-2_75_30_200000.0_50000_5_0', './Case4/log_SAC_nested_coarse-largebatch_id-1-2_75_30_200000.0_500000_5_0']\n"
     ]
    }
   ],
   "source": [
    "print(dirs)"
   ]
  },
  {
   "cell_type": "code",
   "execution_count": 10,
   "metadata": {},
   "outputs": [],
   "source": [
    "# dirs = [x[0] for x in os.walk(\"./Case1/\")]\n",
    "import shutil\n",
    "for f in dirs:\n",
    "    shutil.rmtree(f)"
   ]
  },
  {
   "cell_type": "code",
   "execution_count": null,
   "metadata": {},
   "outputs": [],
   "source": []
  },
  {
   "cell_type": "code",
   "execution_count": null,
   "metadata": {},
   "outputs": [],
   "source": []
  }
 ],
 "metadata": {
  "kernelspec": {
   "display_name": "Python 3",
   "language": "python",
   "name": "python3"
  },
  "language_info": {
   "codemirror_mode": {
    "name": "ipython",
    "version": 3
   },
   "file_extension": ".py",
   "mimetype": "text/x-python",
   "name": "python",
   "nbconvert_exporter": "python",
   "pygments_lexer": "ipython3",
   "version": "3.7.7"
  }
 },
 "nbformat": 4,
 "nbformat_minor": 4
}
